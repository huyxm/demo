{
 "cells": [
  {
   "cell_type": "code",
   "execution_count": 3,
   "metadata": {
    "scrolled": true
   },
   "outputs": [
    {
     "name": "stdout",
     "output_type": "stream",
     "text": [
      "Hello world, this is a work in progress\n"
     ]
    }
   ],
   "source": [
    "import math\n",
    "\n",
    "pi = str(math.pi)  # Convert pi to a string\n",
    "pi_list = [int(digit) for digit in pi if digit.isdigit()]  # Use a list comprehension to convert each digit to an integer and append to a list\n",
    "pi_list = pi_list[:21]  # Slice the list to contain only the first 21 items\n",
    "print(pi_list)\n"
   ]
  }
 ],
 "metadata": {
  "kernelspec": {
   "display_name": "Python 3",
   "language": "python",
   "name": "python3"
  },
  "language_info": {
   "codemirror_mode": {
    "name": "ipython",
    "version": 3
   },
   "file_extension": ".py",
   "mimetype": "text/x-python",
   "name": "python",
   "nbconvert_exporter": "python",
   "pygments_lexer": "ipython3",
   "version": "3.7.6"
  }
 },
 "nbformat": 4,
 "nbformat_minor": 4
}
